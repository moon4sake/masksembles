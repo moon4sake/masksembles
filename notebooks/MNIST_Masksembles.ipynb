{
 "cells": [
  {
   "cell_type": "code",
   "execution_count": 124,
   "metadata": {
    "collapsed": true,
    "id": "qrpn5UV2BYLF"
   },
   "outputs": [],
   "source": [
    "!pip install --upgrade git+http://github.com/nikitadurasov/masksembles\n",
    "!wget https://github.com/nikitadurasov/masksembles/raw/main/images/complex_sample_mnist.npy"
   ]
  },
  {
   "cell_type": "markdown",
   "metadata": {
    "id": "bHtAoRyhBiKr"
   },
   "source": [
    "# MNIST "
   ]
  },
  {
   "cell_type": "markdown",
   "metadata": {
    "id": "eFvywyCZBlsh"
   },
   "source": [
    "## Keras"
   ]
  },
  {
   "cell_type": "code",
   "execution_count": 113,
   "metadata": {
    "id": "bnCBbU95BuQ0"
   },
   "outputs": [],
   "source": [
    "import numpy as np\n",
    "from tensorflow import keras\n",
    "from tensorflow.keras import layers\n",
    "import tensorflow as tf\n",
    "\n",
    "import matplotlib.pyplot as plt"
   ]
  },
  {
   "cell_type": "code",
   "execution_count": 3,
   "metadata": {
    "id": "ZZNyHlDLCOt5"
   },
   "outputs": [],
   "source": [
    "from masksembles.keras import Masksembles2D, Masksembles1D"
   ]
  },
  {
   "cell_type": "code",
   "execution_count": 6,
   "metadata": {
    "colab": {
     "base_uri": "https://localhost:8080/"
    },
    "id": "Gavnqj28CYJ7",
    "outputId": "c89047ee-ee6c-4ed5-cc2c-8178d8d14863"
   },
   "outputs": [
    {
     "name": "stdout",
     "output_type": "stream",
     "text": [
      "x_train shape: (60000, 28, 28, 1)\n",
      "60000 train samples\n",
      "10000 test samples\n"
     ]
    }
   ],
   "source": [
    "# Model / data parameters\n",
    "num_classes = 10\n",
    "input_shape = (28, 28, 1)\n",
    "\n",
    "# the data, split between train and test sets\n",
    "(x_train, y_train), (x_test, y_test) = keras.datasets.mnist.load_data()\n",
    "\n",
    "# Scale images to the [0, 1] range\n",
    "x_train = x_train.astype(\"float32\") / 255\n",
    "x_test = x_test.astype(\"float32\") / 255\n",
    "# Make sure images have shape (28, 28, 1)\n",
    "x_train = np.expand_dims(x_train, -1)\n",
    "x_test = np.expand_dims(x_test, -1)\n",
    "print(\"x_train shape:\", x_train.shape)\n",
    "print(x_train.shape[0], \"train samples\")\n",
    "print(x_test.shape[0], \"test samples\")\n",
    "\n",
    "\n",
    "# convert class vectors to binary class matrices\n",
    "y_train = keras.utils.to_categorical(y_train, num_classes)\n",
    "y_test = keras.utils.to_categorical(y_test, num_classes)"
   ]
  },
  {
   "cell_type": "markdown",
   "metadata": {
    "id": "Hr5xjOSffo7x"
   },
   "source": [
    "In order to transform regular model into Masksembles model one should add Masksembles2D or Masksembles1D layers in it. General recommendation is to insert these layers right before or after convolutional layers. \n",
    "\n",
    "In example below we'll use both Masksembles2D and Masksembles1D layers applied after convolutions. "
   ]
  },
  {
   "cell_type": "code",
   "execution_count": 29,
   "metadata": {
    "colab": {
     "base_uri": "https://localhost:8080/"
    },
    "id": "7jw12ljXCaMg",
    "outputId": "f324695b-c4f7-4624-be34-3bb22cd687a0"
   },
   "outputs": [
    {
     "name": "stdout",
     "output_type": "stream",
     "text": [
      "Model: \"sequential_3\"\n",
      "_________________________________________________________________\n",
      "Layer (type)                 Output Shape              Param #   \n",
      "=================================================================\n",
      "conv2d_6 (Conv2D)            (None, 26, 26, 32)        320       \n",
      "_________________________________________________________________\n",
      "masksembles2d_6 (Masksembles (None, 26, 26, 32)        128       \n",
      "_________________________________________________________________\n",
      "max_pooling2d_6 (MaxPooling2 (None, 13, 13, 32)        0         \n",
      "_________________________________________________________________\n",
      "conv2d_7 (Conv2D)            (None, 11, 11, 64)        18496     \n",
      "_________________________________________________________________\n",
      "masksembles2d_7 (Masksembles (None, 11, 11, 64)        256       \n",
      "_________________________________________________________________\n",
      "max_pooling2d_7 (MaxPooling2 (None, 5, 5, 64)          0         \n",
      "_________________________________________________________________\n",
      "flatten_3 (Flatten)          (None, 1600)              0         \n",
      "_________________________________________________________________\n",
      "masksembles1d_2 (Masksembles (None, 1600)              6400      \n",
      "_________________________________________________________________\n",
      "dense_1 (Dense)              (None, 10)                16010     \n",
      "=================================================================\n",
      "Total params: 41,610\n",
      "Trainable params: 34,826\n",
      "Non-trainable params: 6,784\n",
      "_________________________________________________________________\n"
     ]
    }
   ],
   "source": [
    "model = keras.Sequential(\n",
    "    [\n",
    "        keras.Input(shape=input_shape),\n",
    "        layers.Conv2D(32, kernel_size=(3, 3), activation=\"elu\"),\n",
    "        Masksembles2D(4, 2.0), # adding Masksembles2D\n",
    "        layers.MaxPooling2D(pool_size=(2, 2)),\n",
    "     \n",
    "        layers.Conv2D(64, kernel_size=(3, 3), activation=\"elu\"),\n",
    "        Masksembles2D(4, 2.0), # adding Masksembles2D\n",
    "        layers.MaxPooling2D(pool_size=(2, 2)),\n",
    "     \n",
    "        layers.Flatten(),\n",
    "        Masksembles1D(4, 2.), # adding Masksembles1D\n",
    "        layers.Dense(num_classes, activation=\"softmax\"),\n",
    "    ]\n",
    ")\n",
    "\n",
    "model.summary()"
   ]
  },
  {
   "cell_type": "markdown",
   "metadata": {
    "id": "DP9Km-bGigRC"
   },
   "source": [
    "Training of Masksembles is not different from training of regular model. So we just use standard fit Keras API."
   ]
  },
  {
   "cell_type": "code",
   "execution_count": 30,
   "metadata": {
    "colab": {
     "base_uri": "https://localhost:8080/"
    },
    "id": "44akdkDYDDQl",
    "outputId": "1e31da86-663a-4fdc-a344-857dedef6e4f"
   },
   "outputs": [
    {
     "name": "stdout",
     "output_type": "stream",
     "text": [
      "Epoch 1/5\n",
      "422/422 [==============================] - 54s 126ms/step - loss: 1.0014 - accuracy: 0.7048 - val_loss: 0.1698 - val_accuracy: 0.9520\n",
      "Epoch 2/5\n",
      "422/422 [==============================] - 53s 125ms/step - loss: 0.1825 - accuracy: 0.9455 - val_loss: 0.1100 - val_accuracy: 0.9693\n",
      "Epoch 3/5\n",
      "422/422 [==============================] - 53s 125ms/step - loss: 0.1235 - accuracy: 0.9628 - val_loss: 0.0824 - val_accuracy: 0.9773\n",
      "Epoch 4/5\n",
      "422/422 [==============================] - 53s 126ms/step - loss: 0.0961 - accuracy: 0.9706 - val_loss: 0.0791 - val_accuracy: 0.9767\n",
      "Epoch 5/5\n",
      "422/422 [==============================] - 53s 125ms/step - loss: 0.0850 - accuracy: 0.9742 - val_loss: 0.0674 - val_accuracy: 0.9827\n"
     ]
    },
    {
     "data": {
      "text/plain": [
       "<tensorflow.python.keras.callbacks.History at 0x7f9d3f3f8b10>"
      ]
     },
     "execution_count": 30,
     "metadata": {
      "tags": []
     },
     "output_type": "execute_result"
    }
   ],
   "source": [
    "batch_size = 128\n",
    "epochs = 5\n",
    "\n",
    "model.compile(loss=\"categorical_crossentropy\", optimizer=\"adam\", metrics=[\"accuracy\"])\n",
    "model.fit(x_train, y_train, batch_size=batch_size, epochs=epochs, validation_split=0.1)"
   ]
  },
  {
   "cell_type": "markdown",
   "metadata": {
    "id": "Wh3pGxWujZ0Z"
   },
   "source": [
    "After training we could check that all of Masksembles' submodels would predict similar predictions for training samples."
   ]
  },
  {
   "cell_type": "code",
   "execution_count": 118,
   "metadata": {
    "id": "T3GNT8Z5kItR"
   },
   "outputs": [],
   "source": [
    "img = x_train[0] # just random image from training set"
   ]
  },
  {
   "cell_type": "code",
   "execution_count": 119,
   "metadata": {
    "colab": {
     "base_uri": "https://localhost:8080/",
     "height": 265
    },
    "id": "o0K51rvqkMIs",
    "outputId": "2baad7d7-c8b3-41c2-c8d5-857e7754fb07"
   },
   "outputs": [
    {
     "data": {
      "image/png": "[encoded data removed]",
      "text/plain": [
       "<Figure size 432x288 with 1 Axes>"
      ]
     },
     "metadata": {
      "needs_background": "light",
      "tags": []
     },
     "output_type": "display_data"
    }
   ],
   "source": [
    "plt.imshow(img[..., 0])\n",
    "plt.show()"
   ]
  },
  {
   "cell_type": "markdown",
   "metadata": {
    "id": "yfIVxwixkQdY"
   },
   "source": [
    "To acquire predictions from different submodels one should transform input (with shape [1, H, W, C]) into batch (with shape [M, H, W, C]) that consists of M copies of original input (H - height of image, W - width of image, C - number of channels).\n",
    "\n",
    "As we can see Masksembles submodels produce similar predictions for training set samples."
   ]
  },
  {
   "cell_type": "code",
   "execution_count": 120,
   "metadata": {
    "colab": {
     "base_uri": "https://localhost:8080/"
    },
    "id": "thkg1KJJjY85",
    "outputId": "010a3f3c-f20c-427a-87c9-f08966707e0e"
   },
   "outputs": [
    {
     "name": "stdout",
     "output_type": "stream",
     "text": [
      "PREDICTION OF 1 MODEL: 5 CLASS\n",
      "PREDICTION OF 2 MODEL: 5 CLASS\n",
      "PREDICTION OF 3 MODEL: 5 CLASS\n",
      "PREDICTION OF 4 MODEL: 5 CLASS\n"
     ]
    }
   ],
   "source": [
    "inputs = np.tile(img[None], [4, 1, 1, 1])\n",
    "predictions = model(inputs)\n",
    "for i, cls in enumerate(tf.argmax(predictions, axis=1)):\n",
    "    print(f\"PREDICTION OF {i+1} MODEL: {cls} CLASS\")"
   ]
  },
  {
   "cell_type": "markdown",
   "metadata": {
    "id": "KH81gNyGlcnh"
   },
   "source": [
    "On out-of-distribution samples Masksembles should produce predictions with high variance, let's check it on complex samples from MNIST."
   ]
  },
  {
   "cell_type": "code",
   "execution_count": 121,
   "metadata": {
    "id": "l9rbe1s9fBDf"
   },
   "outputs": [],
   "source": [
    "img = np.load(\"./complex_sample_mnist.npy\")"
   ]
  },
  {
   "cell_type": "code",
   "execution_count": 122,
   "metadata": {
    "colab": {
     "base_uri": "https://localhost:8080/",
     "height": 283
    },
    "id": "n6YghcdrfdkZ",
    "outputId": "a0e0ff76-3ad3-416b-d0ed-642debf7d491"
   },
   "outputs": [
    {
     "data": {
      "text/plain": [
       "<matplotlib.image.AxesImage at 0x7f9d3b8633d0>"
      ]
     },
     "execution_count": 122,
     "metadata": {
      "tags": []
     },
     "output_type": "execute_result"
    },
    {
     "data": {
      "image/png": "[encoded data removed]",
      "text/plain": [
       "<Figure size 432x288 with 1 Axes>"
      ]
     },
     "metadata": {
      "needs_background": "light",
      "tags": []
     },
     "output_type": "display_data"
    }
   ],
   "source": [
    "plt.imshow(img[..., 0])"
   ]
  },
  {
   "cell_type": "code",
   "execution_count": 123,
   "metadata": {
    "colab": {
     "base_uri": "https://localhost:8080/"
    },
    "id": "65Y_-0h9U96h",
    "outputId": "9e86c6b5-2fea-4e6a-dfef-437da2979252"
   },
   "outputs": [
    {
     "name": "stdout",
     "output_type": "stream",
     "text": [
      "PREDICTION OF 1 MODEL: 3 CLASS\n",
      "PREDICTION OF 2 MODEL: 7 CLASS\n",
      "PREDICTION OF 3 MODEL: 7 CLASS\n",
      "PREDICTION OF 4 MODEL: 7 CLASS\n"
     ]
    }
   ],
   "source": [
    "inputs = np.tile(img[None], [4, 1, 1, 1])\n",
    "predictions = model(inputs)\n",
    "for i, cls in enumerate(tf.argmax(predictions, axis=1)):\n",
    "    print(f\"PREDICTION OF {i+1} MODEL: {cls} CLASS\")"
   ]
  }
 ],
 "metadata": {
  "colab": {
   "name": "MNIST_Masksembles.ipynb",
   "provenance": [],
   "toc_visible": true
  },
  "kernelspec": {
   "display_name": "Python 3.9.5 ('mth')",
   "language": "python",
   "name": "python3"
  },
  "language_info": {
   "codemirror_mode": {
    "name": "ipython",
    "version": 2
   },
   "file_extension": ".py",
   "mimetype": "text/x-python",
   "name": "python",
   "nbconvert_exporter": "python",
   "pygments_lexer": "ipython2",
   "version": "3.9.5"
  },
  "vscode": {
   "interpreter": {
    "hash": "dc9628f11e692f709b9da6fdef368fc3e403308f7227ec31e2475a3373a8eb8a"
   }
  }
 },
 "nbformat": 4,
 "nbformat_minor": 0
}
